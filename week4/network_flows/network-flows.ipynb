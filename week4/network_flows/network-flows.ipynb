{
 "cells": [
  {
   "cell_type": "markdown",
   "metadata": {},
   "source": [
    "## Graph Creation\n",
    "\n",
    "Let's begin by constructing the example graph from class."
   ]
  },
  {
   "cell_type": "code",
   "execution_count": 1,
   "metadata": {
    "collapsed": true
   },
   "outputs": [],
   "source": [
    "# initialize the directed graph\n",
    "import networkx as nx\n",
    "G = nx.DiGraph()\n",
    "\n",
    "# add source and target nodes\n",
    "G.add_node('s')\n",
    "G.add_node('t')\n",
    "\n",
    "# add edges -- automatically adds nodes\n",
    "G.add_edge('u', 'v')\n",
    "G.add_edges_from([('s', 'u'), ('s', 'v')])\n",
    "G.add_edges_from([('u', 't'), ('v', 't')])"
   ]
  },
  {
   "cell_type": "markdown",
   "metadata": {},
   "source": [
    "The graph is small enough that we can draw it to make sure it's correct."
   ]
  },
  {
   "cell_type": "code",
   "execution_count": 2,
   "metadata": {
    "collapsed": false
   },
   "outputs": [
    {
     "data": {
      "image/png": "[encoded data removed]",
      "text/plain": [
       "<matplotlib.figure.Figure at 0x3a68ef0>"
      ]
     },
     "metadata": {},
     "output_type": "display_data"
    }
   ],
   "source": [
    "# this \"magic\" is needed to draw graphs\n",
    "%matplotlib inline\n",
    "\n",
    "# we need to explicitly state that we want to see node labels\n",
    "# there are several ways to layout graphs, the 'circular' one\n",
    "# gives a good result here\n",
    "nx.draw_circular(G, with_labels=True, node_color='w', node_size=500)"
   ]
  },
  {
   "cell_type": "markdown",
   "metadata": {},
   "source": [
    "## Max Flow\n",
    "\n",
    "To complete the formulation of the max flow problem, we need to add the capacities."
   ]
  },
  {
   "cell_type": "code",
   "execution_count": 3,
   "metadata": {
    "collapsed": true
   },
   "outputs": [],
   "source": [
    "# add capacities to the edges\n",
    "G.edge['s']['u']['capacity'] = 20\n",
    "G.edge['s']['v']['capacity'] = 10\n",
    "G.edge['u']['v']['capacity'] = 30\n",
    "G.edge['u']['t']['capacity'] = 10\n",
    "G.edge['v']['t']['capacity'] = 20"
   ]
  },
  {
   "cell_type": "markdown",
   "metadata": {},
   "source": [
    "We can now solve the max flow problem in just a single call."
   ]
  },
  {
   "cell_type": "code",
   "execution_count": 4,
   "metadata": {
    "collapsed": false
   },
   "outputs": [
    {
     "name": "stdout",
     "output_type": "stream",
     "text": [
      "Flow value = 30\n",
      "Flow =\n",
      "('s', 'u') 20\n",
      "('s', 'v') 10\n",
      "('u', 't') 10\n",
      "('u', 'v') 10\n",
      "('v', 't') 20\n"
     ]
    }
   ],
   "source": [
    "flow_value, flow = nx.maximum_flow(G, 's', 't')\n",
    "\n",
    "# this gives a cleaner way to print out the flow\n",
    "def print_flow(flow):\n",
    "    for edge in G.edges():\n",
    "        n1, n2 = edge\n",
    "        print edge, flow[n1][n2]\n",
    "\n",
    "\n",
    "print 'Flow value =', flow_value\n",
    "print 'Flow ='\n",
    "print_flow(flow)"
   ]
  },
  {
   "cell_type": "markdown",
   "metadata": {},
   "source": [
    "The maximum flow should equal the minimum cut."
   ]
  },
  {
   "cell_type": "code",
   "execution_count": 5,
   "metadata": {
    "collapsed": false
   },
   "outputs": [
    {
     "name": "stdout",
     "output_type": "stream",
     "text": [
      "True\n"
     ]
    }
   ],
   "source": [
    "max_flow_value = nx.maximum_flow_value(G, 's', 't')\n",
    "min_cut_value = nx.minimum_cut_value(G, 's', 't')\n",
    "\n",
    "print max_flow_value == min_cut_value"
   ]
  },
  {
   "cell_type": "markdown",
   "metadata": {},
   "source": [
    "## Flows with Demands\n",
    "\n",
    "Let's now record a demand value at each node (negative demand corresponds to supply at a node)."
   ]
  },
  {
   "cell_type": "code",
   "execution_count": 6,
   "metadata": {
    "collapsed": false
   },
   "outputs": [],
   "source": [
    "# to add a property to a node, you should use G.node['s'] rather than\n",
    "# G['s'] to reference the node.\n",
    "\n",
    "G.node['s']['demand'] = -25 \n",
    "G.node['t']['demand'] = 20\n",
    "G.node['u']['demand'] = 5\n",
    "G.node['v']['demand'] = 0"
   ]
  },
  {
   "cell_type": "markdown",
   "metadata": {},
   "source": [
    "We'll create a copy of the graph to extend it and solve the flow-with-demands problem as a max-flow problem."
   ]
  },
  {
   "cell_type": "code",
   "execution_count": 13,
   "metadata": {
    "collapsed": false
   },
   "outputs": [],
   "source": [
    "# create deep copy of the graph\n",
    "GD = G.copy()\n",
    "\n",
    "# add new source and terminal nodes\n",
    "GD.add_node('source')\n",
    "GD.add_node('terminal')\n",
    "\n",
    "# add edges of required capacity\n",
    "for node in G.nodes():\n",
    "    demand = G.node[node]['demand']\n",
    "    if demand < 0:\n",
    "        GD.add_edge('source', node)\n",
    "        GD['source'][node]['capacity'] = -demand\n",
    "    if demand > 0:\n",
    "        GD.add_edge(node, 'terminal')\n",
    "        GD[node]['terminal']['capacity'] = demand"
   ]
  },
  {
   "cell_type": "markdown",
   "metadata": {},
   "source": [
    "Let's draw this new graph to check that it's correct."
   ]
  },
  {
   "cell_type": "code",
   "execution_count": 19,
   "metadata": {
    "collapsed": false
   },
   "outputs": [
    {
     "data": {
      "image/png": "[encoded data removed]",
      "text/plain": [
       "<matplotlib.figure.Figure at 0x1602e3c8>"
      ]
     },
     "metadata": {},
     "output_type": "display_data"
    }
   ],
   "source": [
    "nx.draw_circular(GD, with_labels=True, node_color='w', node_size=1000)"
   ]
  },
  {
   "cell_type": "markdown",
   "metadata": {},
   "source": [
    "Now we compute the max flow to obtain the flow with demands."
   ]
  },
  {
   "cell_type": "code",
   "execution_count": 20,
   "metadata": {
    "collapsed": false
   },
   "outputs": [
    {
     "name": "stdout",
     "output_type": "stream",
     "text": [
      "Flow value = 25\n",
      "Flow =\n",
      "('s', 'u') 20\n",
      "('s', 'v') 5\n",
      "('u', 't') 10\n",
      "('u', 'v') 5\n",
      "('v', 't') 10\n"
     ]
    }
   ],
   "source": [
    "flow_value, flow = nx.maximum_flow(GD, 'source', 'terminal')\n",
    "\n",
    "print 'Flow value =', flow_value\n",
    "print 'Flow ='\n",
    "print_flow(flow)"
   ]
  },
  {
   "cell_type": "markdown",
   "metadata": {},
   "source": [
    "This is a valid solution, but it's not the same as the one we had in class!"
   ]
  },
  {
   "cell_type": "markdown",
   "metadata": {},
   "source": [
    "## Min-Cost Flow\n",
    "\n",
    "Let's now solve for the min-cost flow of the example we had in class. We have already added capacities and demands to our network. We finally need to introduce edge costs (weights)."
   ]
  },
  {
   "cell_type": "code",
   "execution_count": 21,
   "metadata": {
    "collapsed": true
   },
   "outputs": [],
   "source": [
    "G.edge['s']['u']['weight'] = 1\n",
    "G.edge['s']['v']['weight'] = 1\n",
    "G.edge['u']['v']['weight'] = 1\n",
    "G.edge['u']['t']['weight'] = 1\n",
    "G.edge['v']['t']['weight'] = 2"
   ]
  },
  {
   "cell_type": "markdown",
   "metadata": {},
   "source": [
    "Now we can just call the min-cost flow function. Note that we could have used this to solve the flow-with-demands problem, just by setting all the costs (weights) to 0."
   ]
  },
  {
   "cell_type": "code",
   "execution_count": 22,
   "metadata": {
    "collapsed": false
   },
   "outputs": [
    {
     "name": "stdout",
     "output_type": "stream",
     "text": [
      "('s', 'u') 15\n",
      "('s', 'v') 10\n",
      "('u', 't') 10\n",
      "('u', 'v') 0\n",
      "('v', 't') 10\n"
     ]
    }
   ],
   "source": [
    "flow = nx.min_cost_flow(G)\n",
    "print_flow(flow)"
   ]
  },
  {
   "cell_type": "markdown",
   "metadata": {},
   "source": [
    "This is the same as the maximum flow found in class. For this example, the maximum flow is unique."
   ]
  },
  {
   "cell_type": "markdown",
   "metadata": {},
   "source": [
    "## Exercises\n",
    "\n",
    "1. Construct the bipartite graph from the example application in the slides and find a matching using max flow.\n",
    "\n",
    "2. Write a function to compute a conformal decomposition of a flow with demands, and run it on the flows found in the Flows with Demands and Min-Cost Flow sections above."
   ]
  }
 ],
 "metadata": {
  "kernelspec": {
   "display_name": "Python 2",
   "language": "python",
   "name": "python2"
  },
  "language_info": {
   "codemirror_mode": {
    "name": "ipython",
    "version": 2
   },
   "file_extension": ".py",
   "mimetype": "text/x-python",
   "name": "python",
   "nbconvert_exporter": "python",
   "pygments_lexer": "ipython2",
   "version": "2.7.10"
  }
 },
 "nbformat": 4,
 "nbformat_minor": 0
}
